{
 "cells": [
  {
   "cell_type": "markdown",
   "metadata": {},
   "source": [
    "# 画像インペイント処理アプリケーション（Google Colab版）\n",
    "\n",
    "このノートブックでは、指定されたオブジェクトを画像から自動的に検出し、その部分をインペイント（修復）する処理を実行できます。"
   ]
  },
  {
   "cell_type": "code",
   "execution_count": null,
   "metadata": {
    "vscode": {
     "languageId": "plaintext"
    }
   },
   "outputs": [],
   "source": [
    "# パッケージのインストール\n",
    "!pip install torch torchvision\n",
    "!pip install transformers\n",
    "!pip install gradio\n",
    "!pip install simple-lama-inpainting\n",
    "!pip install Pillow"
   ]
  },
  {
   "cell_type": "code",
   "execution_count": null,
   "metadata": {
    "vscode": {
     "languageId": "plaintext"
    }
   },
   "outputs": [],
   "source": [
    "import gradio as gr\n",
    "import torch\n",
    "from transformers import AutoProcessor, AutoModelForZeroShotObjectDetection\n",
    "from simple_lama_inpainting import SimpleLama\n",
    "from PIL import Image, ImageDraw\n",
    "import os"
   ]
  },
  {
   "cell_type": "code",
   "execution_count": null,
   "metadata": {
    "vscode": {
     "languageId": "plaintext"
    }
   },
   "outputs": [],
   "source": [
    "# デバイスの設定\n",
    "device = \"cuda\" if torch.cuda.is_available() else \"cpu\"\n",
    "print(f\"Using device: {device}\")\n",
    "\n",
    "# モデルの初期化\n",
    "model_id = \"IDEA-Research/grounding-dino-base\"\n",
    "processor = AutoProcessor.from_pretrained(model_id)\n",
    "model = AutoModelForZeroShotObjectDetection.from_pretrained(model_id).to(device)\n",
    "model.eval()\n",
    "simple_lama = SimpleLama(device=device)"
   ]
  },
  {
   "cell_type": "code",
   "execution_count": null,
   "metadata": {
    "vscode": {
     "languageId": "plaintext"
    }
   },
   "outputs": [],
   "source": [
    "def make_mask(image, target_class, threshold):\n",
    "    width, height = image.size\n",
    "    text = target_class + \".\"\n",
    "    inputs = processor(images=image, text=text, return_tensors=\"pt\").to(device)\n",
    "    with torch.no_grad():\n",
    "        outputs = model(**inputs)\n",
    "    results = processor.post_process_grounded_object_detection(\n",
    "        outputs=outputs,\n",
    "        target_sizes=[(height, width)],\n",
    "        box_threshold=threshold,\n",
    "        text_threshold=threshold\n",
    "    )[0]\n",
    "\n",
    "    binary_mask = Image.new('L', (width, height), 0)\n",
    "    draw = ImageDraw.Draw(binary_mask)\n",
    "    for box, label in zip(results[\"boxes\"], results[\"text_labels\"]):\n",
    "        if label == target_class:\n",
    "            x1, y1, x2, y2 = [round(i.item()) for i in box]\n",
    "            draw.rectangle((x1, y1, x2, y2), fill=255)\n",
    "    return binary_mask\n",
    "\n",
    "def inpaint_lama(image, mask):\n",
    "    result = simple_lama(image, mask)\n",
    "    return result\n",
    "\n",
    "def process_image(image, target_class, threshold):\n",
    "    # マスク生成\n",
    "    mask = make_mask(image, target_class, threshold)\n",
    "    # インペイント実行\n",
    "    inpainted = inpaint_lama(image, mask)\n",
    "    return mask, inpainted"
   ]
  },
  {
   "cell_type": "code",
   "execution_count": null,
   "metadata": {
    "vscode": {
     "languageId": "plaintext"
    }
   },
   "outputs": [],
   "source": [
    "# Gradioインターフェースの作成\n",
    "with gr.Blocks() as demo:\n",
    "    gr.Markdown(\"# 画像インペイント処理\")\n",
    "    with gr.Row():\n",
    "        with gr.Column():\n",
    "            input_image = gr.Image(type=\"pil\", label=\"入力画像\")\n",
    "            target_class = gr.Textbox(label=\"対象クラス名\", value=\"car\")\n",
    "            threshold = gr.Slider(minimum=0.1, maximum=0.9, value=0.2, label=\"検出閾値\")\n",
    "            process_btn = gr.Button(\"処理開始\")\n",
    "        \n",
    "        with gr.Column():\n",
    "            mask_output = gr.Image(label=\"生成されたマスク\")\n",
    "            output_image = gr.Image(label=\"インペイント結果\")\n",
    "    \n",
    "    process_btn.click(\n",
    "        fn=process_image,\n",
    "        inputs=[input_image, target_class, threshold],\n",
    "        outputs=[mask_output, output_image]\n",
    "    )\n",
    "\n",
    "# インターフェースの起動\n",
    "demo.launch(share=True)"
   ]
  }
 ],
 "metadata": {
  "language_info": {
   "name": "python"
  }
 },
 "nbformat": 4,
 "nbformat_minor": 2
}
